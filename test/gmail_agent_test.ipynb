{
 "cells": [
  {
   "cell_type": "code",
   "execution_count": 1,
   "metadata": {},
   "outputs": [
    {
     "ename": "RefreshError",
     "evalue": "('invalid_grant: Token has been expired or revoked.', {'error': 'invalid_grant', 'error_description': 'Token has been expired or revoked.'})",
     "output_type": "error",
     "traceback": [
      "\u001b[1;31m---------------------------------------------------------------------------\u001b[0m",
      "\u001b[1;31mRefreshError\u001b[0m                              Traceback (most recent call last)",
      "Cell \u001b[1;32mIn[1], line 33\u001b[0m\n\u001b[0;32m     30\u001b[0m             token\u001b[38;5;241m.\u001b[39mwrite(creds\u001b[38;5;241m.\u001b[39mto_json())\n\u001b[0;32m     31\u001b[0m     \u001b[38;5;28;01mreturn\u001b[39;00m creds\n\u001b[1;32m---> 33\u001b[0m creds \u001b[38;5;241m=\u001b[39m \u001b[43mcreate_credentials\u001b[49m\u001b[43m(\u001b[49m\u001b[43m)\u001b[49m\n\u001b[0;32m     34\u001b[0m api_resource \u001b[38;5;241m=\u001b[39m build_resource_service(credentials\u001b[38;5;241m=\u001b[39mcreds)\n\u001b[0;32m     35\u001b[0m service \u001b[38;5;241m=\u001b[39m build(\u001b[38;5;124m'\u001b[39m\u001b[38;5;124mgmail\u001b[39m\u001b[38;5;124m'\u001b[39m, \u001b[38;5;124m'\u001b[39m\u001b[38;5;124mv1\u001b[39m\u001b[38;5;124m'\u001b[39m, credentials\u001b[38;5;241m=\u001b[39mcreds)\n",
      "Cell \u001b[1;32mIn[1], line 23\u001b[0m, in \u001b[0;36mcreate_credentials\u001b[1;34m()\u001b[0m\n\u001b[0;32m     21\u001b[0m \u001b[38;5;28;01mif\u001b[39;00m \u001b[38;5;129;01mnot\u001b[39;00m creds \u001b[38;5;129;01mor\u001b[39;00m \u001b[38;5;129;01mnot\u001b[39;00m creds\u001b[38;5;241m.\u001b[39mvalid:\n\u001b[0;32m     22\u001b[0m     \u001b[38;5;28;01mif\u001b[39;00m creds \u001b[38;5;129;01mand\u001b[39;00m creds\u001b[38;5;241m.\u001b[39mexpired \u001b[38;5;129;01mand\u001b[39;00m creds\u001b[38;5;241m.\u001b[39mrefresh_token:\n\u001b[1;32m---> 23\u001b[0m         \u001b[43mcreds\u001b[49m\u001b[38;5;241;43m.\u001b[39;49m\u001b[43mrefresh\u001b[49m\u001b[43m(\u001b[49m\u001b[43mRequest\u001b[49m\u001b[43m(\u001b[49m\u001b[43m)\u001b[49m\u001b[43m)\u001b[49m\n\u001b[0;32m     24\u001b[0m     \u001b[38;5;28;01melse\u001b[39;00m:\n\u001b[0;32m     25\u001b[0m         flow \u001b[38;5;241m=\u001b[39m InstalledAppFlow\u001b[38;5;241m.\u001b[39mfrom_client_secrets_file(\n\u001b[0;32m     26\u001b[0m             \u001b[38;5;124m'\u001b[39m\u001b[38;5;124mcredentials.json\u001b[39m\u001b[38;5;124m'\u001b[39m, SCOPES)\n",
      "File \u001b[1;32mc:\\anaconda\\envs\\gemini\\lib\\site-packages\\google\\oauth2\\credentials.py:391\u001b[0m, in \u001b[0;36mCredentials.refresh\u001b[1;34m(self, request)\u001b[0m\n\u001b[0;32m    373\u001b[0m \u001b[38;5;28;01mif\u001b[39;00m (\n\u001b[0;32m    374\u001b[0m     \u001b[38;5;28mself\u001b[39m\u001b[38;5;241m.\u001b[39m_refresh_token \u001b[38;5;129;01mis\u001b[39;00m \u001b[38;5;28;01mNone\u001b[39;00m\n\u001b[0;32m    375\u001b[0m     \u001b[38;5;129;01mor\u001b[39;00m \u001b[38;5;28mself\u001b[39m\u001b[38;5;241m.\u001b[39m_token_uri \u001b[38;5;129;01mis\u001b[39;00m \u001b[38;5;28;01mNone\u001b[39;00m\n\u001b[0;32m    376\u001b[0m     \u001b[38;5;129;01mor\u001b[39;00m \u001b[38;5;28mself\u001b[39m\u001b[38;5;241m.\u001b[39m_client_id \u001b[38;5;129;01mis\u001b[39;00m \u001b[38;5;28;01mNone\u001b[39;00m\n\u001b[0;32m    377\u001b[0m     \u001b[38;5;129;01mor\u001b[39;00m \u001b[38;5;28mself\u001b[39m\u001b[38;5;241m.\u001b[39m_client_secret \u001b[38;5;129;01mis\u001b[39;00m \u001b[38;5;28;01mNone\u001b[39;00m\n\u001b[0;32m    378\u001b[0m ):\n\u001b[0;32m    379\u001b[0m     \u001b[38;5;28;01mraise\u001b[39;00m exceptions\u001b[38;5;241m.\u001b[39mRefreshError(\n\u001b[0;32m    380\u001b[0m         \u001b[38;5;124m\"\u001b[39m\u001b[38;5;124mThe credentials do not contain the necessary fields need to \u001b[39m\u001b[38;5;124m\"\u001b[39m\n\u001b[0;32m    381\u001b[0m         \u001b[38;5;124m\"\u001b[39m\u001b[38;5;124mrefresh the access token. You must specify refresh_token, \u001b[39m\u001b[38;5;124m\"\u001b[39m\n\u001b[0;32m    382\u001b[0m         \u001b[38;5;124m\"\u001b[39m\u001b[38;5;124mtoken_uri, client_id, and client_secret.\u001b[39m\u001b[38;5;124m\"\u001b[39m\n\u001b[0;32m    383\u001b[0m     )\n\u001b[0;32m    385\u001b[0m (\n\u001b[0;32m    386\u001b[0m     access_token,\n\u001b[0;32m    387\u001b[0m     refresh_token,\n\u001b[0;32m    388\u001b[0m     expiry,\n\u001b[0;32m    389\u001b[0m     grant_response,\n\u001b[0;32m    390\u001b[0m     rapt_token,\n\u001b[1;32m--> 391\u001b[0m ) \u001b[38;5;241m=\u001b[39m \u001b[43mreauth\u001b[49m\u001b[38;5;241;43m.\u001b[39;49m\u001b[43mrefresh_grant\u001b[49m\u001b[43m(\u001b[49m\n\u001b[0;32m    392\u001b[0m \u001b[43m    \u001b[49m\u001b[43mrequest\u001b[49m\u001b[43m,\u001b[49m\n\u001b[0;32m    393\u001b[0m \u001b[43m    \u001b[49m\u001b[38;5;28;43mself\u001b[39;49m\u001b[38;5;241;43m.\u001b[39;49m\u001b[43m_token_uri\u001b[49m\u001b[43m,\u001b[49m\n\u001b[0;32m    394\u001b[0m \u001b[43m    \u001b[49m\u001b[38;5;28;43mself\u001b[39;49m\u001b[38;5;241;43m.\u001b[39;49m\u001b[43m_refresh_token\u001b[49m\u001b[43m,\u001b[49m\n\u001b[0;32m    395\u001b[0m \u001b[43m    \u001b[49m\u001b[38;5;28;43mself\u001b[39;49m\u001b[38;5;241;43m.\u001b[39;49m\u001b[43m_client_id\u001b[49m\u001b[43m,\u001b[49m\n\u001b[0;32m    396\u001b[0m \u001b[43m    \u001b[49m\u001b[38;5;28;43mself\u001b[39;49m\u001b[38;5;241;43m.\u001b[39;49m\u001b[43m_client_secret\u001b[49m\u001b[43m,\u001b[49m\n\u001b[0;32m    397\u001b[0m \u001b[43m    \u001b[49m\u001b[43mscopes\u001b[49m\u001b[38;5;241;43m=\u001b[39;49m\u001b[43mscopes\u001b[49m\u001b[43m,\u001b[49m\n\u001b[0;32m    398\u001b[0m \u001b[43m    \u001b[49m\u001b[43mrapt_token\u001b[49m\u001b[38;5;241;43m=\u001b[39;49m\u001b[38;5;28;43mself\u001b[39;49m\u001b[38;5;241;43m.\u001b[39;49m\u001b[43m_rapt_token\u001b[49m\u001b[43m,\u001b[49m\n\u001b[0;32m    399\u001b[0m \u001b[43m    \u001b[49m\u001b[43menable_reauth_refresh\u001b[49m\u001b[38;5;241;43m=\u001b[39;49m\u001b[38;5;28;43mself\u001b[39;49m\u001b[38;5;241;43m.\u001b[39;49m\u001b[43m_enable_reauth_refresh\u001b[49m\u001b[43m,\u001b[49m\n\u001b[0;32m    400\u001b[0m \u001b[43m\u001b[49m\u001b[43m)\u001b[49m\n\u001b[0;32m    402\u001b[0m \u001b[38;5;28mself\u001b[39m\u001b[38;5;241m.\u001b[39mtoken \u001b[38;5;241m=\u001b[39m access_token\n\u001b[0;32m    403\u001b[0m \u001b[38;5;28mself\u001b[39m\u001b[38;5;241m.\u001b[39mexpiry \u001b[38;5;241m=\u001b[39m expiry\n",
      "File \u001b[1;32mc:\\anaconda\\envs\\gemini\\lib\\site-packages\\google\\oauth2\\reauth.py:365\u001b[0m, in \u001b[0;36mrefresh_grant\u001b[1;34m(request, token_uri, refresh_token, client_id, client_secret, scopes, rapt_token, enable_reauth_refresh)\u001b[0m\n\u001b[0;32m    356\u001b[0m     (\n\u001b[0;32m    357\u001b[0m         response_status_ok,\n\u001b[0;32m    358\u001b[0m         response_data,\n\u001b[1;32m   (...)\u001b[0m\n\u001b[0;32m    361\u001b[0m         request, token_uri, body, headers\u001b[38;5;241m=\u001b[39mmetrics_header\n\u001b[0;32m    362\u001b[0m     )\n\u001b[0;32m    364\u001b[0m \u001b[38;5;28;01mif\u001b[39;00m \u001b[38;5;129;01mnot\u001b[39;00m response_status_ok:\n\u001b[1;32m--> 365\u001b[0m     \u001b[43m_client\u001b[49m\u001b[38;5;241;43m.\u001b[39;49m\u001b[43m_handle_error_response\u001b[49m\u001b[43m(\u001b[49m\u001b[43mresponse_data\u001b[49m\u001b[43m,\u001b[49m\u001b[43m \u001b[49m\u001b[43mretryable_error\u001b[49m\u001b[43m)\u001b[49m\n\u001b[0;32m    366\u001b[0m \u001b[38;5;28;01mreturn\u001b[39;00m _client\u001b[38;5;241m.\u001b[39m_handle_refresh_grant_response(response_data, refresh_token) \u001b[38;5;241m+\u001b[39m (\n\u001b[0;32m    367\u001b[0m     rapt_token,\n\u001b[0;32m    368\u001b[0m )\n",
      "File \u001b[1;32mc:\\anaconda\\envs\\gemini\\lib\\site-packages\\google\\oauth2\\_client.py:72\u001b[0m, in \u001b[0;36m_handle_error_response\u001b[1;34m(response_data, retryable_error)\u001b[0m\n\u001b[0;32m     69\u001b[0m \u001b[38;5;28;01mexcept\u001b[39;00m (\u001b[38;5;167;01mKeyError\u001b[39;00m, \u001b[38;5;167;01mValueError\u001b[39;00m):\n\u001b[0;32m     70\u001b[0m     error_details \u001b[38;5;241m=\u001b[39m json\u001b[38;5;241m.\u001b[39mdumps(response_data)\n\u001b[1;32m---> 72\u001b[0m \u001b[38;5;28;01mraise\u001b[39;00m exceptions\u001b[38;5;241m.\u001b[39mRefreshError(\n\u001b[0;32m     73\u001b[0m     error_details, response_data, retryable\u001b[38;5;241m=\u001b[39mretryable_error\n\u001b[0;32m     74\u001b[0m )\n",
      "\u001b[1;31mRefreshError\u001b[0m: ('invalid_grant: Token has been expired or revoked.', {'error': 'invalid_grant', 'error_description': 'Token has been expired or revoked.'})"
     ]
    }
   ],
   "source": [
    "from googleapiclient.discovery import build\n",
    "from google_auth_oauthlib.flow import InstalledAppFlow\n",
    "from google.auth.transport.requests import Request\n",
    "from google.oauth2.credentials import Credentials\n",
    "import base64\n",
    "import email\n",
    "import os\n",
    "\n",
    "from langchain_community.agent_toolkits import GmailToolkit\n",
    "from langchain_community.tools.gmail.utils import (\n",
    "    build_resource_service,\n",
    ")\n",
    "\n",
    "SCOPES = ['https://www.googleapis.com/auth/gmail.readonly']\n",
    "\n",
    "def create_credentials():\n",
    "    creds = None\n",
    "    if os.path.exists('token.json'):\n",
    "        creds = Credentials.from_authorized_user_file('token.json', SCOPES)\n",
    "    # 사용자 인증이 필요한 경우\n",
    "    if not creds or not creds.valid:\n",
    "        if creds and creds.expired and creds.refresh_token:\n",
    "            creds.refresh(Request())\n",
    "        else:\n",
    "            flow = InstalledAppFlow.from_client_secrets_file(\n",
    "                'credentials.json', SCOPES)\n",
    "            creds = flow.run_local_server(port=0)\n",
    "        # 다음 번 사용을 위해 인증된 사용자 정보를 저장\n",
    "        with open('token.json', 'w') as token:\n",
    "            token.write(creds.to_json())\n",
    "    return creds\n",
    "\n",
    "creds = create_credentials()\n",
    "api_resource = build_resource_service(credentials=creds)\n",
    "service = build('gmail', 'v1', credentials=creds)\n",
    "toolkit = GmailToolkit(api_resource=api_resource)"
   ]
  },
  {
   "cell_type": "code",
   "execution_count": null,
   "metadata": {},
   "outputs": [
    {
     "data": {
      "text/plain": [
       "[GmailCreateDraft(api_resource=<googleapiclient.discovery.Resource object at 0x000001B8D58889D0>),\n",
       " GmailSendMessage(api_resource=<googleapiclient.discovery.Resource object at 0x000001B8D58889D0>),\n",
       " GmailSearch(api_resource=<googleapiclient.discovery.Resource object at 0x000001B8D58889D0>),\n",
       " GmailGetMessage(api_resource=<googleapiclient.discovery.Resource object at 0x000001B8D58889D0>),\n",
       " GmailGetThread(api_resource=<googleapiclient.discovery.Resource object at 0x000001B8D58889D0>)]"
      ]
     },
     "execution_count": 2,
     "metadata": {},
     "output_type": "execute_result"
    }
   ],
   "source": [
    "tools = toolkit.get_tools()\n",
    "tools # toolkit initialize"
   ]
  },
  {
   "cell_type": "code",
   "execution_count": null,
   "metadata": {},
   "outputs": [],
   "source": [
    "from langchain import hub\n",
    "instructions = \"\"\"You are an assistant. return output only.\"\"\"\n",
    "base_prompt = hub.pull(\"langchain-ai/openai-functions-template\")\n",
    "prompt = base_prompt.partial(instructions=instructions)"
   ]
  },
  {
   "cell_type": "code",
   "execution_count": null,
   "metadata": {},
   "outputs": [],
   "source": [
    "from langchain_openai import ChatOpenAI, OpenAI\n",
    "from langchain.agents import AgentExecutor, create_openai_functions_agent\n",
    "\n",
    "llm = ChatOpenAI(model=\"gpt-3.5-turbo-0125\", temperature=0, streaming=True, max_tokens=2048)\n",
    "agent = create_openai_functions_agent(llm, toolkit.get_tools(), prompt)"
   ]
  },
  {
   "cell_type": "code",
   "execution_count": null,
   "metadata": {},
   "outputs": [],
   "source": [
    "agent_executor = AgentExecutor(\n",
    "    agent=agent,\n",
    "    tools=toolkit.get_tools(),\n",
    "    return_intermediate_steps=True,\n",
    "    verbose=True\n",
    ")"
   ]
  },
  {
   "cell_type": "code",
   "execution_count": null,
   "metadata": {},
   "outputs": [
    {
     "name": "stdout",
     "output_type": "stream",
     "text": [
      "\n",
      "\n",
      "\u001b[1m> Entering new AgentExecutor chain...\u001b[0m\n",
      "\u001b[32;1m\u001b[1;3m\n",
      "Invoking: `search_gmail` with `{'query': \"from:'Medium Daily Digest'\", 'max_results': 1, 'resource': 'messages'}`\n",
      "\n",
      "\n",
      "\u001b[0m\u001b[38;5;200m\u001b[1;3m[{'id': '18daeed4aa8dcee0', 'threadId': '18daeed4aa8dcee0', 'snippet': 'Rhcp Stories for Rhcp @rhcp1134·Become a member Medium daily digest Today&#39;s highlights DataDrivenInvestor Teemu Sormunen in DataDrivenInvestor· 14 min read Improve RAG performance on custom', 'body': \"Stories for Rhcp\\r\\n@rhcp1134 (https://medium.com/@rhcp1134?source=email-2483a20590b9-1708019199204-digest.reader-------------------------aad8f342_8163_47be_bb77_28e3b9a97795)\\r\\n·Become a member (https://medium.com/plans?source=email-2483a20590b9-1708019199204-digest.reader-------------------------aad8f342_8163_47be_bb77_28e3b9a97795)\\r\\n\\r\\nToday's highlights\\r\\n\\r\\nTeemu Sormunen (https://medium.com/@teemusormunen?source=email-2483a20590b9-1708019199204-digest.reader-32881626c9c9-e728b7a691e0----0-98------------------aad8f342_8163_47be_bb77_28e3b9a97795-1)\\r\\n in DataDrivenInvestor (https://medium.com/datadriveninvestor?source=email-2483a20590b9-1708019199204-digest.reader-32881626c9c9-e728b7a691e0----0-98------------------aad8f342_8163_47be_bb77_28e3b9a97795-1)\\r\\n·14 min read\\r\\n\\r\\nImprove RAG performance on custom vocabulary\\r\\n\\r\\nVector search fails with custom data\\u200a-\\u200afind out why\\r\\n\\r\\nRyan Siegler (https://medium.com/@ryan.siegler8?source=email-2483a20590b9-1708019199204-digest.reader-b93e4bd87acf-10dab36e3117----1-98------------------aad8f342_8163_47be_bb77_28e3b9a97795-1)\\r\\n in KX Systems (https://medium.com/kx-systems?source=email-2483a20590b9-1708019199204-digest.reader-b93e4bd87acf-10dab36e3117----1-98------------------aad8f342_8163_47be_bb77_28e3b9a97795-1)\\r\\n·12 min read\\r\\n\\r\\nGuide to Multimodal RAG for Images and Text\\r\\n\\r\\nMultimodal AI stands at the forefront of the next wave of AI advancements. This sample shows methods to…\\r\\n\\r\\nSalvatore Raieli (https://medium.com/@salvatore-raieli?source=email-2483a20590b9-1708019199204-digest.reader-78d064101951-cd3cc7f264a7----2-108------------------aad8f342_8163_47be_bb77_28e3b9a97795-1)\\r\\n in Artificial Intelligence in Plain English (https://medium.com/ai-in-plain-english?source=email-2483a20590b9-1708019199204-digest.reader-78d064101951-cd3cc7f264a7----2-108------------------aad8f342_8163_47be_bb77_28e3b9a97795-1)\\r\\n·12 min read\\r\\n\\r\\nA practical guide to neighborhood image processing\\r\\n\\r\\nLove thy neighbors: How the neighbors are influencing a pixel\\r\\n\\r\\nLee Vaughan (https://medium.com/@lee_vaughan?source=email-2483a20590b9-1708019199204-digest.reader-78073def27b8-7e3fcdbda764----3-108------------------aad8f342_8163_47be_bb77_28e3b9a97795-1)\\r\\n in Python in Plain English (https://medium.com/python-in-plain-english?source=email-2483a20590b9-1708019199204-digest.reader-78073def27b8-7e3fcdbda764----3-108------------------aad8f342_8163_47be_bb77_28e3b9a97795-1)\\r\\n·20 min read\\r\\n\\r\\nIntroducing Conda Environments\\r\\n\\r\\nLearn to love the Command Line!\\r\\n\\r\\nRebecca Designs A Life (https://medium.com/@rebeccadesignsalife?source=email-2483a20590b9-1708019199204-digest.reader-ea34ece7503a-1b81bf5410e5----4-98------------------aad8f342_8163_47be_bb77_28e3b9a97795-1)\\r\\n in Read or Die! (https://medium.com/read-or-die?source=email-2483a20590b9-1708019199204-digest.reader-ea34ece7503a-1b81bf5410e5----4-98------------------aad8f342_8163_47be_bb77_28e3b9a97795-1)\\r\\n·2 min read\\r\\n\\r\\nI Was Fired For Writing On Medium\\r\\n\\r\\nHeed this warning\\r\\n\\r\\nAmy Liu (https://medium.com/@Amy_Liu?source=email-2483a20590b9-1708019199204-digest.reader-5f930af19ca1-7d55a4f9c331----5-99------------------aad8f342_8163_47be_bb77_28e3b9a97795-1)\\r\\n in The Taoist Online (https://medium.com/the-taoist-online?source=email-2483a20590b9-1708019199204-digest.reader-5f930af19ca1-7d55a4f9c331----5-99------------------aad8f342_8163_47be_bb77_28e3b9a97795-1)\\r\\n·5 min read\\r\\n\\r\\nThe Balancing Act: from 9–5 Confucianism to 5–9 Taoism\\r\\n\\r\\nWhy it matters in modern living\\r\\n\\r\\nManish Jain (https://medium.com/@jaiin-maniish?source=email-2483a20590b9-1708019199204-digest.reader-5517fd7b58a6-e32b8a15234d----6-108------------------aad8f342_8163_47be_bb77_28e3b9a97795-1)\\r\\n in Level Up Coding (https://medium.com/gitconnected?source=email-2483a20590b9-1708019199204-digest.reader-5517fd7b58a6-e32b8a15234d----6-108------------------aad8f342_8163_47be_bb77_28e3b9a97795-1)\\r\\n·5 min read\\r\\n\\r\\nSay What You Mean, Get What You Need\\r\\n\\r\\nHow Directness Can Save You Time and Achieve More\\r\\n\\r\\nPlaban Nayak (https://medium.com/@nayakpplaban?source=email-2483a20590b9-1708019199204-digest.reader-edbc285dc84a-17d24e74e5cf----7-98------------------aad8f342_8163_47be_bb77_28e3b9a97795-1)\\r\\n in AI Planet (https://medium.com/dphi-tech?source=email-2483a20590b9-1708019199204-digest.reader-edbc285dc84a-17d24e74e5cf----7-98------------------aad8f342_8163_47be_bb77_28e3b9a97795-1)\\r\\n·25 min read\\r\\n\\r\\nEvaluating Naive RAG and Advanced RAG pipeline using langchain v.0.1.0 and…\\r\\n\\r\\nWhat is RAG(Retrieval Augmented Generation)\\xa0?\\r\\n\\r\\nAnthony Alcaraz (https://medium.com/@alcarazanthony1?source=email-2483a20590b9-1708019199204-digest.reader--d1928b7051c7----8-102------------------aad8f342_8163_47be_bb77_28e3b9a97795-1)\\r\\n·7 min read\\r\\n\\r\\nLeveraging LLMs for Causal Reasoning: Why Knowledge and Algorithms are Key\\r\\n\\r\\nCausal reasoning\\u200a-\\u200athe capacity to understand cause-effect relationships and make inferences about…\\r\\n\\r\\nYennie Jun (https://medium.com/@artfish?source=email-2483a20590b9-1708019199204-digest.reader-7f60cf5620c9-cb1bd2f3f4bb----9-102------------------aad8f342_8163_47be_bb77_28e3b9a97795-1)\\r\\n in Towards Data Science (https://medium.com/towards-data-science?source=email-2483a20590b9-1708019199204-digest.reader-7f60cf5620c9-cb1bd2f3f4bb----9-102------------------aad8f342_8163_47be_bb77_28e3b9a97795-1)\\r\\n·11 min read\\r\\n\\r\\nMeasuring AI's Creativity with Visual Word Puzzles\\r\\n\\r\\nHow well can AI models solve (and create) rebus puzzles?\\r\\n\\r\\nZunaira Fatima (https://medium.com/@SKZ_HERE?source=email-2483a20590b9-1708019199204-digest.reader-eca1ba5ae1ca-0b3301f7f0b9----10-99------------------aad8f342_8163_47be_bb77_28e3b9a97795-1)\\r\\n in ILLUMINATION (https://medium.com/illumination?source=email-2483a20590b9-1708019199204-digest.reader-eca1ba5ae1ca-0b3301f7f0b9----10-99------------------aad8f342_8163_47be_bb77_28e3b9a97795-1)\\r\\n·2 min read\\r\\n\\r\\nI Am Not Going To Waste My Tears Anymore On People Talks About Me\\r\\n\\r\\nI am strong, resilient, and confident in who I am\\r\\n\\r\\nAkriti Upadhyay (https://medium.com/@akriti.upadhyay?source=email-2483a20590b9-1708019199204-digest.reader--74e5cda604c0----11-102------------------aad8f342_8163_47be_bb77_28e3b9a97795-1)\\r\\n·10 min read\\r\\n\\r\\nSteps to Build Chinese Language AI Using DeepSeek and Qdrant\\r\\n\\r\\nBy Akriti Upadhyay\\r\\n\\r\\ndatatec.studio (https://medium.com/@datatec.studio?source=email-2483a20590b9-1708019199204-digest.reader-1b26f8621141-b4e8c9c99363----12-98------------------aad8f342_8163_47be_bb77_28e3b9a97795-1)\\r\\n in AI MVP (https://medium.com/ai-mvp-hub?source=email-2483a20590b9-1708019199204-digest.reader-1b26f8621141-b4e8c9c99363----12-98------------------aad8f342_8163_47be_bb77_28e3b9a97795-1)\\r\\n·5 min read\\r\\n\\r\\nFine-Tune an LLaMA2 for Document Q&A\\u200a-\\u200aHow to build vector store\\r\\n\\r\\nUsing Llama-2–7B-Chat model we can build a Document Q&A Chatbot based on our own pdf file(s).\\r\\n\\r\\nMahimai Raja J (https://medium.com/@mahimairaja?source=email-2483a20590b9-1708019199204-digest.reader--ce0d0d0e44e8----13-98------------------aad8f342_8163_47be_bb77_28e3b9a97795-1)\\r\\n·5 min read\\r\\n\\r\\nBuild Knowledge Graph From TextData using LangChain | Under 2min\\r\\n\\r\\nBrain stores knowledge in the form of information graph.\\r\\n\\r\\nAlex Mathers (https://medium.com/@iamalexmathers?source=email-2483a20590b9-1708019199204-digest.reader--7c1837efd574----14-99------------------aad8f342_8163_47be_bb77_28e3b9a97795-1)\\r\\n·3 min read\\r\\n\\r\\nThe simple benefit from judging less, and observing more\\r\\n\\r\\nWhen was the last time you labelled something without understanding it?\\r\\n\\r\\nSee more of what you like and less of what you don't.\\r\\nControl your recommendations (https://medium.com/me/missioncontrol?source=email-2483a20590b9-1708019199204-digest.reader-------------------------aad8f342_8163_47be_bb77_28e3b9a97795)\\r\\n\\r\\nRead from anywhere.\\r\\n\\r\\nSent by Medium (https://medium.com/?source=email-2483a20590b9-1708019199204-digest.reader-------------------------aad8f342_8163_47be_bb77_28e3b9a97795)\\r\\n·Medium, 548 Market St, PMB 42061, San\\xa0Francisco,\\xa0CA\\xa094104\\r\\nUnsubscribe (https://medium.com/me/email-settings/2483a20590b9/fefa36cad2fa?type=social&source=email-2483a20590b9-1708019199204-digest.reader-------------------------aad8f342_8163_47be_bb77_28e3b9a97795)\\r\\n from this type of email·Switch to the Weekly Digest (https://medium.com/me/email-settings/2483a20590b9/fefa36cad2fa?type=social&preference=2&source=email-2483a20590b9-1708019199204-digest.reader-------------------------aad8f342_8163_47be_bb77_28e3b9a97795)\\r\\n·Careers (https://medium.com/jobs-at-medium/work-at-medium-959d1a85284e?source=email-2483a20590b9-1708019199204-digest.reader-------------------------aad8f342_8163_47be_bb77_28e3b9a97795)\\r\\n·Help Center (https://help.medium.com/hc/en-us?source=email-2483a20590b9-1708019199204-digest.reader-------------------------aad8f342_8163_47be_bb77_28e3b9a97795)\\r\\n·Privacy Policy (https://policy.medium.com/medium-privacy-policy-f03bf92035c9?source=email-2483a20590b9-1708019199204-digest.reader-------------------------aad8f342_8163_47be_bb77_28e3b9a97795)\\r\\n·Terms of service (https://policy.medium.com/medium-terms-of-service-9db0094a1e0f?source=email-2483a20590b9-1708019199204-digest.reader-------------------------aad8f342_8163_47be_bb77_28e3b9a97795)\", 'subject': 'Improve RAG performance on custom vocabulary | Teemu Sormunen in\\r\\n DataDrivenInvestor', 'sender': 'Medium Daily Digest <noreply@medium.com>'}]\u001b[0m\u001b[32;1m\u001b[1;3mMost recent matching email with ID: 18daeed4aa8dcee0\u001b[0m\n",
      "\n",
      "\u001b[1m> Finished chain.\u001b[0m\n",
      "Most recent matching email with ID: 18daeed4aa8dcee0\n"
     ]
    }
   ],
   "source": [
    "search_result = agent_executor.invoke({\"input\": \"`search_gmail` with `{'query': 'from':'Medium Daily Digest', 'max_results': 1}`. Return Most recent matching mail with id ONLY.\"})\n",
    "print(search_result[\"output\"])"
   ]
  },
  {
   "cell_type": "code",
   "execution_count": null,
   "metadata": {},
   "outputs": [
    {
     "name": "stdout",
     "output_type": "stream",
     "text": [
      "18daeed4aa8dcee0\n"
     ]
    }
   ],
   "source": [
    "search_result_output = search_result[\"output\"].split(\":\")[-1].lstrip(\" \") # parse result\n",
    "print(search_result_output)"
   ]
  },
  {
   "cell_type": "code",
   "execution_count": null,
   "metadata": {},
   "outputs": [
    {
     "name": "stdout",
     "output_type": "stream",
     "text": [
      "Message snippet: Rhcp Stories for Rhcp @rhcp1134·Become a member Medium daily digest Today&#39;s highlights DataDrivenInvestor Teemu Sormunen in DataDrivenInvestor· 14 min read Improve RAG performance on custom\n"
     ]
    }
   ],
   "source": [
    "def get_message(service, user_id, message_id):\n",
    "    try:\n",
    "        message = service.users().messages().get(userId=user_id, id=message_id, format='raw').execute()\n",
    "        print('Message snippet: %s' % message['snippet'])\n",
    "\n",
    "        msg_str = base64.urlsafe_b64decode(message['raw'].encode('ASCII'))\n",
    "        mime_msg = email.message_from_bytes(msg_str)\n",
    "\n",
    "        # 메일 본문 찾기\n",
    "        if mime_msg.is_multipart():\n",
    "            for part in mime_msg.walk():\n",
    "                if part.get_content_type() == 'text/html':\n",
    "                    html_content = part.get_payload(decode=True).decode()\n",
    "                    break\n",
    "        else:\n",
    "            html_content = mime_msg.get_payload(decode=True).decode()\n",
    "\n",
    "        return html_content\n",
    "    except Exception as error:\n",
    "        print('An error occurred: %s' % error)\n",
    "\n",
    "# 메일 내용 가져오기 및 파싱 예제\n",
    "user_id = 'me'  # 현재 로그인한 사용자\n",
    "message_id = search_result_output  # 가져오고자 하는 메시지의 ID\n",
    "html_content = get_message(service, user_id, message_id)\n"
   ]
  },
  {
   "cell_type": "code",
   "execution_count": null,
   "metadata": {},
   "outputs": [],
   "source": [
    "from langchain.schema.document import Document\n",
    "from langchain_community.document_transformers import BeautifulSoupTransformer\n",
    "\n",
    "doc = Document(page_content=html_content)\n",
    "bs = BeautifulSoupTransformer()\n",
    "bs_content = bs.transform_documents(documents=[doc], tags_to_extract=[\"a\"])"
   ]
  },
  {
   "cell_type": "code",
   "execution_count": null,
   "metadata": {},
   "outputs": [],
   "source": [
    "from bs4 import BeautifulSoup\n",
    "from urllib.parse import urlparse\n",
    "\n",
    "soup = BeautifulSoup(html_content, 'html.parser')\n",
    "links = soup.find_all('a')\n",
    "\n",
    "def validation(url):\n",
    "    parsed_url = urlparse(url)\n",
    "    if parsed_url.scheme == \"https\" and parsed_url.netloc == \"medium.com\":\n",
    "            # 경로에서 @username 확인\n",
    "            path_parts = parsed_url.path.split('/')\n",
    "            if len(path_parts) >= 3 and path_parts[1].startswith('@'):\n",
    "                return True\n",
    "    return False\n",
    "\n",
    "url_dict = {}\n",
    "\n",
    "for link in links:\n",
    "    text = link.get_text(strip=True)\n",
    "    url = link.get('href').split(\"?\")[0]\n",
    "\n",
    "    if validation(url):\n",
    "        url_dict[url] = text"
   ]
  },
  {
   "cell_type": "code",
   "execution_count": null,
   "metadata": {},
   "outputs": [],
   "source": [
    "from typing import List\n",
    "from langchain.output_parsers import PydanticOutputParser\n",
    "from langchain_core.pydantic_v1 import BaseModel, Field\n",
    "from langchain_openai import ChatOpenAI\n",
    "\n",
    "#Parsing with Custom Pydantic Object\n",
    "class URL_TABLE(BaseModel):\n",
    "    url:str = Field(description=\"url\")\n",
    "    description:str = Field(description=\"description that describe url\")\n",
    "\n",
    "class URLTextList(BaseModel):\n",
    "    url_text_pairs: List[URL_TABLE]\n",
    "\n",
    "parser = PydanticOutputParser(pydantic_object=URLTextList)\n",
    "llm = ChatOpenAI(model=\"gpt-3.5-turbo-0125\")\n",
    "# parse result with PydanticOutputParser\n",
    "chain = llm | parser\n",
    "result = chain.invoke(f\"\"\"get dict {url_dict}. Show value and url if it is related to LLM or Python or Programming.\n",
    "    Output should be dictionary like this .\n",
    "    <Example output>                       \n",
    "                     {{\n",
    "    \"url_text_pairs\": [\n",
    "        {{\n",
    "            \"url\": \"https://example.com/1\",\n",
    "            \"description\": \"Example description 1\"\n",
    "        }},\n",
    "        {{\n",
    "            \"url\": \"https://example.com/2\",\n",
    "            \"description\": \"Example description 2\"\n",
    "        }}\n",
    "    ]}}\"\"\")"
   ]
  },
  {
   "cell_type": "code",
   "execution_count": null,
   "metadata": {},
   "outputs": [
    {
     "name": "stdout",
     "output_type": "stream",
     "text": [
      "https://medium.com/@teemusormunen/improve-rag-performance-on-custom-vocabulary-e728b7a691e0\n",
      "https://medium.com/@lee_vaughan/introducing-conda-environments-7e3fcdbda764\n",
      "https://medium.com/@alcarazanthony1/leveraging-llms-for-causal-reasoning-why-knowledge-and-algorithms-are-key-d1928b7051c7\n",
      "https://medium.com/@datatec.studio/fine-tune-an-llama2-for-document-q-a-how-to-build-vector-store-b4e8c9c99363\n"
     ]
    }
   ],
   "source": [
    "for content in result.url_text_pairs:\n",
    "    print(content.url)"
   ]
  },
  {
   "cell_type": "code",
   "execution_count": null,
   "metadata": {},
   "outputs": [],
   "source": [
    "from datetime import date\n",
    "\n",
    "today = date.today()"
   ]
  },
  {
   "cell_type": "code",
   "execution_count": null,
   "metadata": {},
   "outputs": [
    {
     "name": "stdout",
     "output_type": "stream",
     "text": [
      "Here is your Today Daily LLM Digest!: 2024-02-16\n",
      "\n",
      "1. \"Improve RAG performance on custom vocabularyVector search fails with custom data — find out why\" \n",
      "\t-url: https://medium.com/@teemusormunen/improve-rag-performance-on-custom-vocabulary-e728b7a691e0\n",
      "2. \"Introducing Conda EnvironmentsLearn to love the Command Line!\" \n",
      "\t-url: https://medium.com/@lee_vaughan/introducing-conda-environments-7e3fcdbda764\n",
      "3. \"Leveraging LLMs for Causal Reasoning: Why Knowledge and Algorithms are KeyCausal reasoning — the capacity to understand cause-effect relationships and make inferences about…\" \n",
      "\t-url: https://medium.com/@alcarazanthony1/leveraging-llms-for-causal-reasoning-why-knowledge-and-algorithms-are-key-d1928b7051c7\n",
      "4. \"Fine-Tune an LLaMA2 for Document Q&A — How to build vector storeUsing Llama-2–7B-Chat model we can build a Document Q&A Chatbot based on our own pdf file(s).\" \n",
      "\t-url: https://medium.com/@datatec.studio/fine-tune-an-llama2-for-document-q-a-how-to-build-vector-store-b4e8c9c99363\n",
      "\n"
     ]
    }
   ],
   "source": [
    "prompt_format = f\"Here is your Today Daily LLM Digest!: {today}\\n\\n\"\n",
    "for idx, content in enumerate(result.url_text_pairs, 1):\n",
    "    prompt_format += f\"{idx}. \\\"{content.description}\\\" \\n\\t-url: {content.url}\\n\"\n",
    "print(prompt_format)"
   ]
  },
  {
   "cell_type": "code",
   "execution_count": null,
   "metadata": {},
   "outputs": [],
   "source": []
  }
 ],
 "metadata": {
  "kernelspec": {
   "display_name": "gemini",
   "language": "python",
   "name": "python3"
  },
  "language_info": {
   "codemirror_mode": {
    "name": "ipython",
    "version": 3
   },
   "file_extension": ".py",
   "mimetype": "text/x-python",
   "name": "python",
   "nbconvert_exporter": "python",
   "pygments_lexer": "ipython3",
   "version": "3.10.13"
  }
 },
 "nbformat": 4,
 "nbformat_minor": 2
}
